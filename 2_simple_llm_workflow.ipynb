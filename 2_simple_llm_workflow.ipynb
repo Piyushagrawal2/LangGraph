{
 "cells": [
  {
   "cell_type": "code",
   "execution_count": 2,
   "id": "fcb85ed7",
   "metadata": {},
   "outputs": [],
   "source": [
    "from langgraph.graph import StateGraph, START, END\n",
    "from langchain_google_genai import ChatGoogleGenerativeAI\n",
    "from typing import TypedDict\n",
    "from dotenv import load_dotenv\n",
    "import os"
   ]
  },
  {
   "cell_type": "code",
   "execution_count": 3,
   "id": "7a92ac9d",
   "metadata": {},
   "outputs": [
    {
     "data": {
      "text/plain": [
       "True"
      ]
     },
     "execution_count": 3,
     "metadata": {},
     "output_type": "execute_result"
    }
   ],
   "source": [
    "load_dotenv()"
   ]
  },
  {
   "cell_type": "code",
   "execution_count": 4,
   "id": "4ae77e49",
   "metadata": {},
   "outputs": [],
   "source": [
    "model = ChatGoogleGenerativeAI(model=\"gemini-2.5-flash\", google_api_key=os.getenv(\"GOOGLE_API_KEY\"))"
   ]
  },
  {
   "cell_type": "code",
   "execution_count": 5,
   "id": "165361ef",
   "metadata": {},
   "outputs": [],
   "source": [
    "#create a state\n",
    "class LLMState(TypedDict):\n",
    "    question: str\n",
    "    answer: str"
   ]
  },
  {
   "cell_type": "code",
   "execution_count": 7,
   "id": "caea0424",
   "metadata": {},
   "outputs": [],
   "source": [
    "def llm_node(state: LLMState) -> LLMState:\n",
    "    #extract the question from state\n",
    "    question = state[\"question\"]\n",
    "\n",
    "    #create a prompt\n",
    "    prompt = f\"Please answer the following question:\\n{question}\"\n",
    "\n",
    "    #ask the question to LLM\n",
    "    response = model.invoke(prompt).content\n",
    "\n",
    "    #update the state with the answer\n",
    "    state[\"answer\"] = response\n",
    "    return state"
   ]
  },
  {
   "cell_type": "code",
   "execution_count": 11,
   "id": "b23b049b",
   "metadata": {},
   "outputs": [
    {
     "name": "stdout",
     "output_type": "stream",
     "text": [
      "Question: What is the capital of France?\n",
      "Answer: The capital of France is **Paris**.\n"
     ]
    }
   ],
   "source": [
    "#create a graph\n",
    "graph = StateGraph(LLMState)\n",
    "\n",
    "#create nodes\n",
    "graph.add_node('llm', llm_node)\n",
    "\n",
    "#create edges\n",
    "graph.add_edge(START, \"llm\")\n",
    "graph.add_edge(\"llm\", END)\n",
    "\n",
    "#compile the graph\n",
    "workflow = graph.compile()\n",
    "\n",
    "#execute the graph\n",
    "initial_state = {\"question\": \"What is the capital of France?\"}\n",
    "output = workflow.invoke(initial_state)\n",
    "print(\"Question:\", output[\"question\"])\n",
    "print(\"Answer:\", output[\"answer\"])\n"
   ]
  },
  {
   "cell_type": "code",
   "execution_count": 20,
   "id": "97235f95",
   "metadata": {},
   "outputs": [
    {
     "data": {
      "image/png": "[encoded data removed]",
      "text/plain": [
       "<IPython.core.display.Image object>"
      ]
     },
     "metadata": {},
     "output_type": "display_data"
    }
   ],
   "source": [
    "from IPython.display import Image, display\n",
    "display(Image(data=workflow.get_graph().draw_mermaid_png()))"
   ]
  }
 ],
 "metadata": {
  "kernelspec": {
   "display_name": "venv",
   "language": "python",
   "name": "python3"
  },
  "language_info": {
   "codemirror_mode": {
    "name": "ipython",
    "version": 3
   },
   "file_extension": ".py",
   "mimetype": "text/x-python",
   "name": "python",
   "nbconvert_exporter": "python",
   "pygments_lexer": "ipython3",
   "version": "3.13.3"
  }
 },
 "nbformat": 4,
 "nbformat_minor": 5
}
