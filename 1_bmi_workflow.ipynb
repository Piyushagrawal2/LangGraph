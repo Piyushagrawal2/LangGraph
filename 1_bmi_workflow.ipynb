{
 "cells": [
  {
   "cell_type": "code",
   "execution_count": 44,
   "id": "e8ac6148",
   "metadata": {},
   "outputs": [],
   "source": [
    "from langgraph.graph import StateGraph, START, END\n",
    "from typing import TypedDict"
   ]
  },
  {
   "cell_type": "code",
   "execution_count": 45,
   "id": "83d94310",
   "metadata": {},
   "outputs": [],
   "source": [
    "#Define state\n",
    "class BMIState(TypedDict):\n",
    "    height: float\n",
    "    weight: float\n",
    "    bmi: float\n",
    "    category: str\n"
   ]
  },
  {
   "cell_type": "code",
   "execution_count": null,
   "id": "fcaa036d",
   "metadata": {},
   "outputs": [],
   "source": [
    "#define your nodes\n",
    "def calculate_bmi(state: BMIState) -> BMIState:\n",
    "    # Convert height from cm to meters if it's likely in cm\n",
    "    height = state[\"height\"]\n",
    "    if height > 3:\n",
    "        height = height / 100.0\n",
    "    bmi = state[\"weight\"] / (height ** 2)\n",
    "    state[\"bmi\"] = round(bmi, 2)\n",
    "    return state\n",
    "\n",
    "def determine_category(state: BMIState) -> BMIState:\n",
    "    if state[\"bmi\"] < 18.5:\n",
    "        state[\"category\"] = \"Underweight\"\n",
    "    elif state[\"bmi\"] < 24.9:\n",
    "        state[\"category\"] = \"Normal weight\"\n",
    "    else:\n",
    "        state[\"category\"] = \"Overweight\"\n",
    "    return state\n",
    "\n",
    "# def generate_report(state: BMIState) -> BMIState:\n",
    "#     report = f\"BMI: {state['bmi']:.2f}\\nCategory: {state['category']}\"\n",
    "#     return {\"report\": report}\n",
    "\n",
    "# def save_report(state: BMIState) -> BMIState:\n",
    "#     with open(\"bmi_report.txt\", \"w\") as f:\n",
    "#         f.write(state[\"report\"])\n",
    "#     return state\n"
   ]
  },
  {
   "cell_type": "code",
   "execution_count": 47,
   "id": "25a9e913",
   "metadata": {},
   "outputs": [],
   "source": [
    "#define your graph\n",
    "graph = StateGraph(BMIState)\n",
    "\n",
    "#add nodes to the graph\n",
    "graph.add_node(\"calculate_bmi\", calculate_bmi)\n",
    "graph.add_node(\"determine_category\", determine_category)\n",
    "\n",
    "#add edges to your graph\n",
    "graph.add_edge(START, \"calculate_bmi\")\n",
    "graph.add_edge(\"calculate_bmi\", \"determine_category\")\n",
    "graph.add_edge(\"determine_category\", END)\n",
    "\n",
    "#compile the graph\n",
    "workflow =graph.compile()\n",
    "\n",
    "\n",
    "\n"
   ]
  },
  {
   "cell_type": "code",
   "execution_count": 48,
   "id": "e04a8cff",
   "metadata": {},
   "outputs": [
    {
     "name": "stdout",
     "output_type": "stream",
     "text": [
      "{'height': 170, 'weight': 70, 'bmi': 24.22, 'category': 'Normal weight'}\n"
     ]
    }
   ],
   "source": [
    "#execute the graph\n",
    "# Use height in centimeters (e.g., 170 cm) and weight in kilograms (e.g., 70 kg)\n",
    "initial_state = {\"height\": 170, \"weight\": 70}\n",
    "output = workflow.invoke(initial_state)\n",
    "print(output)"
   ]
  },
  {
   "cell_type": "code",
   "execution_count": 49,
   "id": "597af9b8",
   "metadata": {},
   "outputs": [
    {
     "data": {
      "image/png": "[encoded data removed]",
      "text/plain": [
       "<IPython.core.display.Image object>"
      ]
     },
     "metadata": {},
     "output_type": "display_data"
    }
   ],
   "source": [
    "from IPython.display import Image, display\n",
    "display(Image(data=workflow.get_graph().draw_mermaid_png()))"
   ]
  }
 ],
 "metadata": {
  "kernelspec": {
   "display_name": "venv",
   "language": "python",
   "name": "python3"
  },
  "language_info": {
   "codemirror_mode": {
    "name": "ipython",
    "version": 3
   },
   "file_extension": ".py",
   "mimetype": "text/x-python",
   "name": "python",
   "nbconvert_exporter": "python",
   "pygments_lexer": "ipython3",
   "version": "3.13.3"
  }
 },
 "nbformat": 4,
 "nbformat_minor": 5
}
